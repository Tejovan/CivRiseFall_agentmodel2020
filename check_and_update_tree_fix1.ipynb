{
 "cells": [
  {
   "cell_type": "code",
   "execution_count": 22,
   "metadata": {},
   "outputs": [],
   "source": [
    "from __future__ import print_function\n",
    "from __future__ import division\n",
    "\n",
    "import os, inspect, shutil, csv, pickle, sys\n",
    "#import cPickle as pickle\n",
    "import networkx as nx\n",
    "#import scipy as sp\n",
    "import numpy as np\n",
    "import pandas as pd\n",
    "from scipy.stats import describe\n",
    "import time\n",
    "from random import seed, uniform, choice, gauss, randint\n",
    "from math import fabs\n",
    "import time\n",
    "# import PyTables\n",
    "#import h5py\n",
    "import tables\n",
    "import matplotlib.pyplot as plt\n",
    "##from matplotlib.backends.backend_pdf import PdfPages"
   ]
  },
  {
   "cell_type": "code",
   "execution_count": 2,
   "metadata": {},
   "outputs": [],
   "source": [
    "Market = nx.DiGraph(kValue=uniform(0,1),kBar=uniform(0,1), agentAge=1)\n",
    "numAgents = 25\n",
    "probability_c = .2"
   ]
  },
  {
   "cell_type": "code",
   "execution_count": 3,
   "metadata": {},
   "outputs": [],
   "source": [
    "Market.add_node(0)      ## , top_node = True    ## tej modified\n",
    "Market.add_edge(0,0)    ## Tej added this line\n",
    "in_hierarchy = {0}       ## tej added\n",
    "for i in range(1, numAgents+1):\n",
    "    Market.add_node(i, kValue=uniform(0,1), kBar=uniform(0,1),\n",
    "                         agentAge=1, agentNumber=i)\n",
    "    Market.add_edge(i,i)"
   ]
  },
  {
   "cell_type": "code",
   "execution_count": 4,
   "metadata": {},
   "outputs": [
    {
     "data": {
      "image/png": "[encoded data removed]",
      "text/plain": [
       "<Figure size 432x288 with 1 Axes>"
      ]
     },
     "metadata": {},
     "output_type": "display_data"
    }
   ],
   "source": [
    "nx.draw(Market, with_labels=True, font_weight='bold')"
   ]
  },
  {
   "cell_type": "code",
   "execution_count": 5,
   "metadata": {},
   "outputs": [],
   "source": [
    "iterations = 10\n",
    "for iteration in range(iterations):\n",
    "    for n in range(1, len(Market)):\n",
    "        #only connect if the node does not have a parent\n",
    "        if (len(Market.adj[n]) == 1):\n",
    "            \n",
    "#             # Get all agents first\n",
    "#             possibleAgents = set(Market.nodes())\n",
    "#             # Get set of myself and all my in-links\n",
    "#             inLinksAndMe = list(Market.predecessors(n)) + [n]\n",
    "#             possibleAgents.difference_update(inLinksAndMe)\n",
    "#             possibleAgents\n",
    "\n",
    "            if uniform(0, 1) <= probability_c:\n",
    "#                 try:\n",
    "#                     newInLink = choice(list(possibleAgents))\n",
    "                newInLink = choice(list(in_hierarchy))\n",
    "#                 print(newInLink)\n",
    "\n",
    "#                     if newInLink:\n",
    "                Market.add_edge(n, newInLink)\n",
    "                in_hierarchy.add(n)\n",
    "#                 except:\n",
    "#                     print('exception')"
   ]
  },
  {
   "cell_type": "code",
   "execution_count": 6,
   "metadata": {},
   "outputs": [
    {
     "data": {
      "image/png": "[encoded data removed]",
      "text/plain": [
       "<Figure size 432x288 with 1 Axes>"
      ]
     },
     "metadata": {},
     "output_type": "display_data"
    }
   ],
   "source": [
    "nx.draw(Market, with_labels=True, font_weight='bold')"
   ]
  },
  {
   "cell_type": "code",
   "execution_count": 7,
   "metadata": {},
   "outputs": [
    {
     "data": {
      "text/plain": [
       "NodeView((0, 1, 2, 3, 4, 5, 6, 7, 8, 9, 10, 11, 12, 13, 14, 15, 16, 17, 18, 19, 20, 21, 22, 23, 24, 25))"
      ]
     },
     "execution_count": 7,
     "metadata": {},
     "output_type": "execute_result"
    }
   ],
   "source": [
    "Market.nodes()"
   ]
  },
  {
   "cell_type": "code",
   "execution_count": 8,
   "metadata": {},
   "outputs": [
    {
     "data": {
      "text/plain": [
       "{17: 20, 0: 17}"
      ]
     },
     "execution_count": 8,
     "metadata": {},
     "output_type": "execute_result"
    }
   ],
   "source": [
    "nx.algorithms.traversal.depth_first_search.dfs_predecessors(Market,20)"
   ]
  },
  {
   "cell_type": "code",
   "execution_count": 9,
   "metadata": {},
   "outputs": [
    {
     "data": {
      "text/plain": [
       "AtlasView({25: {}, 22: {}})"
      ]
     },
     "execution_count": 9,
     "metadata": {},
     "output_type": "execute_result"
    }
   ],
   "source": [
    "Market.adj[25]"
   ]
  },
  {
   "cell_type": "code",
   "execution_count": 10,
   "metadata": {},
   "outputs": [
    {
     "data": {
      "text/plain": [
       "1"
      ]
     },
     "execution_count": 10,
     "metadata": {},
     "output_type": "execute_result"
    }
   ],
   "source": [
    "len(Market.adj[2])"
   ]
  },
  {
   "cell_type": "code",
   "execution_count": 20,
   "metadata": {},
   "outputs": [
    {
     "data": {
      "text/plain": [
       "[3, 8]"
      ]
     },
     "execution_count": 20,
     "metadata": {},
     "output_type": "execute_result"
    }
   ],
   "source": [
    "list(Market.predecessors(3))"
   ]
  },
  {
   "cell_type": "code",
   "execution_count": 12,
   "metadata": {},
   "outputs": [
    {
     "data": {
      "text/plain": [
       "AtlasView({1: {}, 21: {}})"
      ]
     },
     "execution_count": 12,
     "metadata": {},
     "output_type": "execute_result"
    }
   ],
   "source": [
    "Market.adj[1]"
   ]
  },
  {
   "cell_type": "code",
   "execution_count": 13,
   "metadata": {
    "scrolled": true
   },
   "outputs": [
    {
     "data": {
      "image/png": "[encoded data removed]",
      "text/plain": [
       "<Figure size 432x288 with 1 Axes>"
      ]
     },
     "execution_count": 13,
     "metadata": {},
     "output_type": "execute_result"
    },
    {
     "data": {
      "image/png": "[encoded data removed]",
      "text/plain": [
       "<Figure size 432x288 with 1 Axes>"
      ]
     },
     "metadata": {},
     "output_type": "display_data"
    }
   ],
   "source": [
    "plt.figure(1)\n",
    "nx.draw_networkx(Market, arrows=True)\n",
    "plt.figure(1,figsize=(20,100)) "
   ]
  },
  {
   "cell_type": "code",
   "execution_count": 14,
   "metadata": {},
   "outputs": [],
   "source": [
    "testset = {1,2,3}"
   ]
  },
  {
   "cell_type": "code",
   "execution_count": 15,
   "metadata": {},
   "outputs": [
    {
     "name": "stdout",
     "output_type": "stream",
     "text": [
      "{0, 1, 2, 3, 4, 5, 6, 7, 9, 10, 11, 12, 13, 14, 15, 16, 17, 18, 19, 20, 21, 22, 23, 24, 25}\n"
     ]
    }
   ],
   "source": [
    "possibleAgents = set(Market.nodes())\n",
    "# Get set of myself and all my in-links\n",
    "inLinksAndMe = list(Market.predecessors(8)) + [8]\n",
    "possibleAgents.difference_update(inLinksAndMe)\n",
    "print(possibleAgents)"
   ]
  },
  {
   "cell_type": "code",
   "execution_count": 16,
   "metadata": {},
   "outputs": [
    {
     "name": "stdout",
     "output_type": "stream",
     "text": [
      "1\n",
      "2\n",
      "3\n",
      "4\n",
      "5\n",
      "6\n",
      "7\n",
      "8\n",
      "9\n",
      "10\n",
      "11\n",
      "12\n",
      "13\n",
      "14\n",
      "15\n",
      "16\n",
      "17\n",
      "18\n",
      "19\n",
      "20\n",
      "21\n",
      "22\n",
      "23\n",
      "24\n",
      "25\n"
     ]
    }
   ],
   "source": [
    "for n in range(1, len(Market)): print(n)"
   ]
  },
  {
   "cell_type": "code",
   "execution_count": 21,
   "metadata": {},
   "outputs": [
    {
     "data": {
      "text/plain": [
       "[3, 8]"
      ]
     },
     "execution_count": 21,
     "metadata": {},
     "output_type": "execute_result"
    }
   ],
   "source": [
    "list(Market.predecessors(3))"
   ]
  },
  {
   "cell_type": "code",
   "execution_count": 43,
   "metadata": {},
   "outputs": [
    {
     "ename": "ValueError",
     "evalue": "not enough values to unpack (expected 2, got 1)",
     "output_type": "error",
     "traceback": [
      "\u001b[1;31m---------------------------------------------------------------------------\u001b[0m",
      "\u001b[1;31mValueError\u001b[0m                                Traceback (most recent call last)",
      "\u001b[1;32m<ipython-input-43-ed43fb0e49ca>\u001b[0m in \u001b[0;36m<module>\u001b[1;34m()\u001b[0m\n\u001b[0;32m      8\u001b[0m     \u001b[0mmem\u001b[0m\u001b[1;33m.\u001b[0m\u001b[0mappend\u001b[0m\u001b[1;33m(\u001b[0m\u001b[0mk\u001b[0m\u001b[1;33m)\u001b[0m\u001b[1;33m\u001b[0m\u001b[0m\n\u001b[0;32m      9\u001b[0m \u001b[1;33m\u001b[0m\u001b[0m\n\u001b[1;32m---> 10\u001b[1;33m \u001b[0mfig\u001b[0m\u001b[1;33m,\u001b[0m \u001b[0maxs\u001b[0m \u001b[1;33m=\u001b[0m \u001b[0mplt\u001b[0m\u001b[1;33m.\u001b[0m\u001b[0mplot\u001b[0m\u001b[1;33m(\u001b[0m\u001b[0mmem\u001b[0m\u001b[1;33m)\u001b[0m\u001b[1;33m\u001b[0m\u001b[0m\n\u001b[0m",
      "\u001b[1;31mValueError\u001b[0m: not enough values to unpack (expected 2, got 1)"
     ]
    },
    {
     "data": {
      "image/png": "[encoded data removed]",
      "text/plain": [
       "<Figure size 432x288 with 1 Axes>"
      ]
     },
     "metadata": {},
     "output_type": "display_data"
    }
   ],
   "source": [
    "iters = 10000\n",
    "k = 0.1\n",
    "kstar = 1\n",
    "slope = 0.0005\n",
    "mem = []\n",
    "for iteration in range(1,iters):\n",
    "    k = k + slope*(kstar - k)\n",
    "    mem.append(k)\n",
    "    \n",
    "fig, axs = plt.plot(mem)"
   ]
  },
  {
   "cell_type": "code",
   "execution_count": 32,
   "metadata": {},
   "outputs": [
    {
     "data": {
      "text/plain": [
       "[0.14500000000000002,\n",
       " 0.18775000000000003,\n",
       " 0.22836250000000002,\n",
       " 0.266944375,\n",
       " 0.30359715625,\n",
       " 0.3384172984375,\n",
       " 0.371496433515625,\n",
       " 0.40292161183984376,\n",
       " 0.43277553124785156,\n",
       " 0.461136754685459,\n",
       " 0.4880799169511861,\n",
       " 0.5136759211036268,\n",
       " 0.5379921250484455,\n",
       " 0.5610925187960233,\n",
       " 0.5830378928562221,\n",
       " 0.603885998213411,\n",
       " 0.6236916983027405,\n",
       " 0.6425071133876035,\n",
       " 0.6603817577182233,\n",
       " 0.6773626698323121,\n",
       " 0.6934945363406965,\n",
       " 0.7088198095236616,\n",
       " 0.7233788190474786,\n",
       " 0.7372098780951046,\n",
       " 0.7503493841903494,\n",
       " 0.7628319149808319,\n",
       " 0.7746903192317903,\n",
       " 0.7859558032702008,\n",
       " 0.7966580131066907,\n",
       " 0.8068251124513561,\n",
       " 0.8164838568287883,\n",
       " 0.8256596639873489,\n",
       " 0.8343766807879814,\n",
       " 0.8426578467485824,\n",
       " 0.8505249544111533,\n",
       " 0.8579987066905956,\n",
       " 0.8650987713560658,\n",
       " 0.8718438327882625,\n",
       " 0.8782516411488493,\n",
       " 0.8843390590914069,\n",
       " 0.8901221061368365,\n",
       " 0.8956160008299947,\n",
       " 0.900835200788495,\n",
       " 0.9057934407490702,\n",
       " 0.9105037687116166,\n",
       " 0.9149785802760358,\n",
       " 0.9192296512622341,\n",
       " 0.9232681686991224,\n",
       " 0.9271047602641663,\n",
       " 0.930749522250958,\n",
       " 0.93421204613841,\n",
       " 0.9375014438314895,\n",
       " 0.940626371639915,\n",
       " 0.9435950530579192,\n",
       " 0.9464153004050233,\n",
       " 0.9490945353847722,\n",
       " 0.9516398086155335,\n",
       " 0.9540578181847569,\n",
       " 0.9563549272755191,\n",
       " 0.9585371809117431,\n",
       " 0.9606103218661559,\n",
       " 0.9625798057728481,\n",
       " 0.9644508154842056,\n",
       " 0.9662282747099954,\n",
       " 0.9679168609744956,\n",
       " 0.9695210179257708,\n",
       " 0.9710449670294823,\n",
       " 0.9724927186780081,\n",
       " 0.9738680827441077,\n",
       " 0.9751746786069023,\n",
       " 0.9764159446765572,\n",
       " 0.9775951474427294,\n",
       " 0.9787153900705929,\n",
       " 0.9797796205670632,\n",
       " 0.98079063953871,\n",
       " 0.9817511075617745,\n",
       " 0.9826635521836858,\n",
       " 0.9835303745745015,\n",
       " 0.9843538558457765,\n",
       " 0.9851361630534877,\n",
       " 0.9858793549008134,\n",
       " 0.9865853871557727,\n",
       " 0.9872561177979841,\n",
       " 0.9878933119080848,\n",
       " 0.9884986463126806,\n",
       " 0.9890737139970466,\n",
       " 0.9896200282971942,\n",
       " 0.9901390268823345,\n",
       " 0.9906320755382177,\n",
       " 0.9911004717613069,\n",
       " 0.9915454481732415,\n",
       " 0.9919681757645794,\n",
       " 0.9923697669763505,\n",
       " 0.992751278627533,\n",
       " 0.9931137146961564,\n",
       " 0.9934580289613486,\n",
       " 0.9937851275132812,\n",
       " 0.9940958711376171,\n",
       " 0.9943910775807363]"
      ]
     },
     "execution_count": 32,
     "metadata": {},
     "output_type": "execute_result"
    }
   ],
   "source": [
    "mem"
   ]
  },
  {
   "cell_type": "code",
   "execution_count": null,
   "metadata": {},
   "outputs": [],
   "source": []
  }
 ],
 "metadata": {
  "kernelspec": {
   "display_name": "Python 3",
   "language": "python",
   "name": "python3"
  },
  "language_info": {
   "codemirror_mode": {
    "name": "ipython",
    "version": 3
   },
   "file_extension": ".py",
   "mimetype": "text/x-python",
   "name": "python",
   "nbconvert_exporter": "python",
   "pygments_lexer": "ipython3",
   "version": "3.6.5"
  }
 },
 "nbformat": 4,
 "nbformat_minor": 4
}
