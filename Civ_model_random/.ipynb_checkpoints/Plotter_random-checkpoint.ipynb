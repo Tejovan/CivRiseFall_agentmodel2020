{
 "cells": [
  {
   "cell_type": "code",
   "execution_count": 2,
   "metadata": {},
   "outputs": [],
   "source": [
    "import pandas as pd\n",
    "import matplotlib.pyplot as plt\n",
    "import numpy as np"
   ]
  },
  {
   "cell_type": "code",
   "execution_count": 133,
   "metadata": {},
   "outputs": [
    {
     "data": {
      "text/plain": [
       "Text(0,0.5,'k_50')"
      ]
     },
     "execution_count": 133,
     "metadata": {},
     "output_type": "execute_result"
    }
   ],
   "source": [
    "# resultsFolder = 'C:\\\\Users\\\\tejov\\\\CivRiseFall_agentmodel2020\\\\Civ_model_random\\\\run-model_2-20201007-213729\\\\run-model_2-20201007-213747\\\\results'\n",
    "# path = os.path.abspath(os.getcwd())\n",
    "# DataFrame = pd.read_csv(resultsFolder + '/results0-tc_a50_k50.csv')\n",
    "DataFrame = pd.read_csv('C:\\\\Users\\\\tejov\\\\CivRiseFall_agentmodel2020\\\\Civ_model_smallworld' \\\n",
    "                                '\\\\smallworld_k6slope10_vil5pref6_8e6_1\\\\results\\\\results0-tc_a50_k50.csv')\n",
    "\n",
    "plt.rcParams['figure.figsize'] = [12, 8]\n",
    "ax1 = DataFrame.tc.plot()\n",
    "ax1.set_ylim(0, 1.1)\n",
    "ax1.set_xlim(-0.1e6,8.1e6)\n",
    "ax1.set_ylabel('t c', color='tab:blue')\n",
    "\n",
    "ax2 = ax1.twinx()  # instantiate a second axes that shares the same x-axis\n",
    "\n",
    "ax2.plot(DataFrame.k_50, color='tab:orange')\n",
    "ax2.set_ylim(0, 0.2)\n",
    "ax2.set_ylabel('k_50', color='tab:orange')"
   ]
  },
  {
   "cell_type": "code",
   "execution_count": 149,
   "metadata": {},
   "outputs": [],
   "source": [
    "%matplotlib qt\n",
    "# %matplotlib inline\n",
    "# plt.rcParams['figure.figsize'] = [12, 8]\n",
    "\n",
    "\n",
    "high_civ = 0.9\n",
    "low_civ = 0.4\n",
    "\n",
    "cross_record = []\n",
    "cycle_count = 0\n",
    "rise_times = []\n",
    "fall_times = []\n",
    "high_times = []\n",
    "low_times = []\n",
    "\n",
    "DataFrame = pd.read_csv('C:\\\\Users\\\\tejov\\\\CivRiseFall_agentmodel2020\\\\Civ_model_random' \\\n",
    "                                '\\\\random_k6slope10_8e6_1\\\\results\\\\results0-tc_a50_k50.csv')\n",
    "connections = list(DataFrame.tc)\n",
    "\n",
    "# rf = 0  # falling is 0, rising is 1\n",
    "# cs = 0  # low_civ is 0, high-civ is 1\n",
    "recent_cross = [0, 1]  # iteration at which a threshold was most recently crossed, and whether it was the high/falling(0) or low/rising(1)\n",
    "\n",
    "# loop through connection history and classify\n",
    "for i in range(1,len(connections)):                                       \n",
    "    \n",
    "    if (connections[i] <= high_civ) & (connections[i-1] > high_civ):           # if falls below high_civ\n",
    "        recent_cross = [i,0]\n",
    "    if (connections[i] >= low_civ) & (connections[i-1] < low_civ):             # if rises above low_civ \n",
    "        recent_cross = [i,1]\n",
    "        \n",
    "    if (connections[i] >= high_civ) & (connections[i-1] < high_civ):           # if rises into high_civ\n",
    "        if recent_cross[1] == 1:                                             # if it rose from low_civ\n",
    "            cross_record.append([recent_cross[1],recent_cross[0],i])           # add rise to history \n",
    "        recent_cross = [i,0]\n",
    "    if (connections[i] <= low_civ) & (connections[i-1] > low_civ):             # if falls into low_civ \n",
    "        if recent_cross[1] == 0:                                             # if it fell from high_civ\n",
    "            cross_record.append([recent_cross[1],recent_cross[0],i])           # add fall to history \n",
    "        recent_cross = [i,1]\n",
    "cross_record.append([-1,len(connections)-1,-1])  ## append for ending\n",
    "\n",
    "# plt.rcParams['figure.figsize'] = [12, 8]\n",
    "# ax1 = DataFrame.tc.plot()\n",
    "# ax1.set_ylim(0, 1.1)\n",
    "# ax1.set_xlim(0,2e6)\n",
    "# ax1.set_ylabel('t c', color='tab:blue')\n",
    "plt.axis([-.1e6,8.1e6,0,1.1])\n",
    "for n in range(len(cross_record)-1):\n",
    "    cur = cross_record[n]\n",
    "    nxt = cross_record[n+1][1]\n",
    "    if cur[0] == 1:\n",
    "        plt.plot(np.arange(cur[1],cur[2]+1,1),connections[cur[1]:cur[2]+1],color = 'tab:green')\n",
    "        plt.plot(np.arange(cur[2],nxt+1,1),connections[cur[2]:nxt+1],color = 'tab:blue')\n",
    "        \n",
    "        rise_times.append(cur[2] - cur[1])\n",
    "        high_times.append(nxt - cur[2])\n",
    "        cycle_count += 1\n",
    "    if cur[0] == 0:\n",
    "        plt.plot(np.arange(cur[1],cur[2]+1,1),connections[cur[1]:cur[2]+1],color = 'tab:orange')\n",
    "        plt.plot(np.arange(cur[2],nxt+1,1),connections[cur[2]:nxt+1],color = 'tab:red')\n",
    "        \n",
    "        fall_times.append(cur[2] - cur[1])\n",
    "        low_times.append(nxt - cur[2])\n",
    "\n",
    "\n",
    "plt.axhline(y=0.9, color = 'black')\n",
    "plt.axhline(y=0.4, color = 'black')\n",
    "plt.show()\n"
   ]
  },
  {
   "cell_type": "code",
   "execution_count": 136,
   "metadata": {},
   "outputs": [
    {
     "data": {
      "image/png": "[encoded data removed]",
      "text/plain": [
       "<Figure size 432x288 with 1 Axes>"
      ]
     },
     "metadata": {},
     "output_type": "display_data"
    }
   ],
   "source": [
    " %matplotlib inline\n",
    "\n",
    "plt.hist(rise_times, bins=100)\n",
    "plt.gca().set(title='rises', ylabel='frequency');\n",
    "plt.show()"
   ]
  },
  {
   "cell_type": "code",
   "execution_count": 137,
   "metadata": {},
   "outputs": [
    {
     "data": {
      "image/png": "[encoded data removed]",
      "text/plain": [
       "<Figure size 432x288 with 1 Axes>"
      ]
     },
     "metadata": {},
     "output_type": "display_data"
    }
   ],
   "source": [
    "plt.hist(fall_times, bins=100)\n",
    "plt.gca().set(title='Falls', ylabel='Frequency');\n",
    "plt.show()\n"
   ]
  },
  {
   "cell_type": "code",
   "execution_count": 138,
   "metadata": {},
   "outputs": [
    {
     "data": {
      "image/png": "[encoded data removed]",
      "text/plain": [
       "<Figure size 432x288 with 1 Axes>"
      ]
     },
     "metadata": {},
     "output_type": "display_data"
    }
   ],
   "source": [
    "plt.hist(high_times, bins=100)\n",
    "plt.gca().set(title='high  civ', ylabel='Frequency');\n",
    "plt.show()"
   ]
  },
  {
   "cell_type": "code",
   "execution_count": 139,
   "metadata": {},
   "outputs": [
    {
     "data": {
      "image/png": "[encoded data removed]",
      "text/plain": [
       "<Figure size 432x288 with 1 Axes>"
      ]
     },
     "metadata": {},
     "output_type": "display_data"
    }
   ],
   "source": [
    "plt.hist(low_times, bins=100)\n",
    "plt.gca().set(title='low civ', ylabel='Frequency');\n",
    "plt.show()"
   ]
  },
  {
   "cell_type": "code",
   "execution_count": 142,
   "metadata": {},
   "outputs": [],
   "source": [
    "%matplotlib qt\n",
    "\n",
    "fig, axs = plt.subplots(2, 2, sharex=False, sharey=False)\n",
    "fig.suptitle('smallworld network: tribalPref=0.6, vilSize=5', fontsize=16)\n",
    "fig.subplots_adjust(wspace=0.35, hspace=0.5)\n",
    "# kwargs = dict(alpha=0.5, bins=20)\n",
    "bins_rf=np.histogram(np.hstack((rise_times,fall_times,low_times)), bins=40)[1] #get the bin edges\n",
    "bins_civ=np.histogram(np.hstack((high_times,low_times)), bins=40)[1] #get the bin edges\n",
    "max_rfl = max([max(rise_times),max(low_times),max(fall_times)])\n",
    "\n",
    "axs[0,0].set_xlim(0,max_rfl+0.1*max_rfl)\n",
    "axs[0,0].hist(rise_times, bins_rf, alpha=0.5, color='g', label='rise')\n",
    "axs[0,0].legend();\n",
    "axs[0,0].set_xlabel('duration (interations)');\n",
    "\n",
    "axs[1,0].set_xlim(0,max_rfl+0.1*max_rfl)\n",
    "axs[1,0].hist(fall_times, bins_rf, alpha=0.5, color='b', label='fall')\n",
    "axs[1,0].legend();\n",
    "axs[1,0].set_xlabel('duration (interations)');\n",
    "\n",
    "\n",
    "axs[0,1].set_xlim(0,1.1*max(high_times))\n",
    "axs[0,1].hist(high_times, bins = 80, color='r', label='high civ')\n",
    "axs[0,1].legend();\n",
    "axs[0,1].set_xlabel('duration (interations, note larger domain)');\n",
    "\n",
    "\n",
    "axs[1,1].set_xlim(0,max_rfl+0.1*max_rfl)\n",
    "axs[1,1].hist(low_times, bins_rf, color='y', label='low civ')\n",
    "axs[1,1].legend();\n",
    "axs[1,1].set_xlabel('duration (interations)');\n",
    "\n",
    "# plt.gca().set(title='Random network', ylabel='Frequency')\n",
    "\n",
    "# ax1 = axs[1,1].twiny()\n",
    "# axs[1,1].set_xlim(0,25000)\n",
    "# axs[1,1].hist(low_times, bins=80, color='orange', label='low civ_zoom')\n",
    "# # plt.gca().set(title='Random network', ylabel='Frequency')\n",
    "# axs[1,1].legend();\n"
   ]
  },
  {
   "cell_type": "code",
   "execution_count": null,
   "metadata": {
    "scrolled": true
   },
   "outputs": [],
   "source": []
  },
  {
   "cell_type": "code",
   "execution_count": 144,
   "metadata": {},
   "outputs": [],
   "source": [
    "# % matplotlib inline\n",
    "% matplotlib qt\n",
    "\n",
    "rf_ratio = []\n",
    "\n",
    "for i in range(len(fall_times)-1):\n",
    "#     print(i)\n",
    "    rf_ratio.append(rise_times[i+1] / fall_times[i])\n",
    "\n",
    "plt.xticks(np.arange(0, max(rf_ratio)+1, 0.5))\n",
    "plt.hist(rf_ratio, bins = 300)\n",
    "plt.title('distribution of rise and fall time ratios for fall-(low)-rise pairs')\n",
    "plt.xlabel('rise_time / fall_time')\n",
    "plt.ylabel('frequency')\n",
    "# plt.xlim([0,20])\n",
    "plt.show()"
   ]
  },
  {
   "cell_type": "code",
   "execution_count": 148,
   "metadata": {},
   "outputs": [
    {
     "data": {
      "text/plain": [
       "37"
      ]
     },
     "execution_count": 148,
     "metadata": {},
     "output_type": "execute_result"
    }
   ],
   "source": [
    "len(rise_times)"
   ]
  },
  {
   "cell_type": "code",
   "execution_count": 147,
   "metadata": {},
   "outputs": [
    {
     "data": {
      "text/plain": [
       "36"
      ]
     },
     "execution_count": 147,
     "metadata": {},
     "output_type": "execute_result"
    }
   ],
   "source": [
    "len(fall_times)"
   ]
  },
  {
   "cell_type": "code",
   "execution_count": 68,
   "metadata": {},
   "outputs": [
    {
     "name": "stdout",
     "output_type": "stream",
     "text": [
      "12360\n",
      "2919\n"
     ]
    }
   ],
   "source": [
    "print(rise_times[0+1])\n",
    "print(fall_times[0])"
   ]
  },
  {
   "cell_type": "code",
   "execution_count": 145,
   "metadata": {},
   "outputs": [
    {
     "data": {
      "text/plain": [
       "37"
      ]
     },
     "execution_count": 145,
     "metadata": {},
     "output_type": "execute_result"
    }
   ],
   "source": [
    "cycle_count"
   ]
  },
  {
   "cell_type": "code",
   "execution_count": 146,
   "metadata": {},
   "outputs": [
    {
     "data": {
      "text/plain": [
       "37"
      ]
     },
     "execution_count": 146,
     "metadata": {},
     "output_type": "execute_result"
    }
   ],
   "source": [
    "len(rise_times)"
   ]
  },
  {
   "cell_type": "code",
   "execution_count": 119,
   "metadata": {},
   "outputs": [
    {
     "data": {
      "text/plain": [
       "435137"
      ]
     },
     "execution_count": 119,
     "metadata": {},
     "output_type": "execute_result"
    }
   ],
   "source": [
    "max(high_times)"
   ]
  },
  {
   "cell_type": "code",
   "execution_count": 120,
   "metadata": {},
   "outputs": [
    {
     "data": {
      "text/plain": [
       "41917"
      ]
     },
     "execution_count": 120,
     "metadata": {},
     "output_type": "execute_result"
    }
   ],
   "source": [
    "max(low_times)"
   ]
  },
  {
   "cell_type": "code",
   "execution_count": 127,
   "metadata": {},
   "outputs": [
    {
     "data": {
      "text/plain": [
       "17.795640326975477"
      ]
     },
     "execution_count": 127,
     "metadata": {},
     "output_type": "execute_result"
    }
   ],
   "source": [
    "max(rf_ratio)"
   ]
  },
  {
   "cell_type": "code",
   "execution_count": 141,
   "metadata": {},
   "outputs": [
    {
     "data": {
      "text/plain": [
       "65542"
      ]
     },
     "execution_count": 141,
     "metadata": {},
     "output_type": "execute_result"
    }
   ],
   "source": [
    "max([max(rise_times),max(low_times),max(fall_times)])"
   ]
  },
  {
   "cell_type": "code",
   "execution_count": 150,
   "metadata": {},
   "outputs": [
    {
     "data": {
      "text/plain": [
       "Text(0.5,1,'random: k*=.6 slope=1.0 death=2e-5 iters=8e6 _run1')"
      ]
     },
     "execution_count": 150,
     "metadata": {},
     "output_type": "execute_result"
    }
   ],
   "source": [
    "plt.title('random: k*=.6 slope=1.0 death=2e-5 iters=8e6 _run1')"
   ]
  },
  {
   "cell_type": "code",
   "execution_count": null,
   "metadata": {},
   "outputs": [],
   "source": []
  }
 ],
 "metadata": {
  "kernelspec": {
   "display_name": "Python 3",
   "language": "python",
   "name": "python3"
  },
  "language_info": {
   "codemirror_mode": {
    "name": "ipython",
    "version": 3
   },
   "file_extension": ".py",
   "mimetype": "text/x-python",
   "name": "python",
   "nbconvert_exporter": "python",
   "pygments_lexer": "ipython3",
   "version": "3.6.5"
  }
 },
 "nbformat": 4,
 "nbformat_minor": 2
}
